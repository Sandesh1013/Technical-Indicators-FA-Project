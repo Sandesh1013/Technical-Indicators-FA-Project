{
  "nbformat": 4,
  "nbformat_minor": 0,
  "metadata": {
    "colab": {
      "name": "Bollinger Bands",
      "provenance": [],
      "collapsed_sections": []
    },
    "kernelspec": {
      "name": "python3",
      "display_name": "Python 3"
    },
    "language_info": {
      "name": "python"
    }
  },
  "cells": [
    {
      "cell_type": "code",
      "metadata": {
        "id": "wrmWVWYcj5bC",
        "colab": {
          "base_uri": "https://localhost:8080/",
          "height": 223
        },
        "outputId": "86744383-9c47-4e0f-efa1-cc44efb54165"
      },
      "source": [
        "import pandas as pd\n",
        "import numpy as np\n",
        "from matplotlib import pyplot as plt\n",
        "import seaborn as sns\n",
        "#importing required libraries\n",
        "hdfc=pd.read_csv('/content/HDFCBANK.NS.csv')\n",
        "print(hdfc.shape)\n",
        "hdfc.tail()"
      ],
      "execution_count": 3,
      "outputs": [
        {
          "output_type": "stream",
          "text": [
            "(246, 7)\n"
          ],
          "name": "stdout"
        },
        {
          "output_type": "execute_result",
          "data": {
            "text/html": [
              "<div>\n",
              "<style scoped>\n",
              "    .dataframe tbody tr th:only-of-type {\n",
              "        vertical-align: middle;\n",
              "    }\n",
              "\n",
              "    .dataframe tbody tr th {\n",
              "        vertical-align: top;\n",
              "    }\n",
              "\n",
              "    .dataframe thead th {\n",
              "        text-align: right;\n",
              "    }\n",
              "</style>\n",
              "<table border=\"1\" class=\"dataframe\">\n",
              "  <thead>\n",
              "    <tr style=\"text-align: right;\">\n",
              "      <th></th>\n",
              "      <th>Date</th>\n",
              "      <th>Open</th>\n",
              "      <th>High</th>\n",
              "      <th>Low</th>\n",
              "      <th>Close</th>\n",
              "      <th>Adj Close</th>\n",
              "      <th>Volume</th>\n",
              "    </tr>\n",
              "  </thead>\n",
              "  <tbody>\n",
              "    <tr>\n",
              "      <th>241</th>\n",
              "      <td>2019-03-22</td>\n",
              "      <td>1150.000000</td>\n",
              "      <td>1153.500000</td>\n",
              "      <td>1135.400024</td>\n",
              "      <td>1138.074951</td>\n",
              "      <td>1128.533447</td>\n",
              "      <td>15201940</td>\n",
              "    </tr>\n",
              "    <tr>\n",
              "      <th>242</th>\n",
              "      <td>2019-03-25</td>\n",
              "      <td>1130.000000</td>\n",
              "      <td>1143.925049</td>\n",
              "      <td>1126.500000</td>\n",
              "      <td>1140.650024</td>\n",
              "      <td>1131.087036</td>\n",
              "      <td>4599630</td>\n",
              "    </tr>\n",
              "    <tr>\n",
              "      <th>243</th>\n",
              "      <td>2019-03-26</td>\n",
              "      <td>1137.949951</td>\n",
              "      <td>1157.500000</td>\n",
              "      <td>1136.300049</td>\n",
              "      <td>1155.675049</td>\n",
              "      <td>1145.985962</td>\n",
              "      <td>5893424</td>\n",
              "    </tr>\n",
              "    <tr>\n",
              "      <th>244</th>\n",
              "      <td>2019-03-27</td>\n",
              "      <td>1159.275024</td>\n",
              "      <td>1164.025024</td>\n",
              "      <td>1139.525024</td>\n",
              "      <td>1149.724976</td>\n",
              "      <td>1140.085938</td>\n",
              "      <td>6942650</td>\n",
              "    </tr>\n",
              "    <tr>\n",
              "      <th>245</th>\n",
              "      <td>2019-03-28</td>\n",
              "      <td>1149.400024</td>\n",
              "      <td>1162.500000</td>\n",
              "      <td>1143.925049</td>\n",
              "      <td>1151.400024</td>\n",
              "      <td>1141.746826</td>\n",
              "      <td>9777164</td>\n",
              "    </tr>\n",
              "  </tbody>\n",
              "</table>\n",
              "</div>"
            ],
            "text/plain": [
              "           Date         Open         High  ...        Close    Adj Close    Volume\n",
              "241  2019-03-22  1150.000000  1153.500000  ...  1138.074951  1128.533447  15201940\n",
              "242  2019-03-25  1130.000000  1143.925049  ...  1140.650024  1131.087036   4599630\n",
              "243  2019-03-26  1137.949951  1157.500000  ...  1155.675049  1145.985962   5893424\n",
              "244  2019-03-27  1159.275024  1164.025024  ...  1149.724976  1140.085938   6942650\n",
              "245  2019-03-28  1149.400024  1162.500000  ...  1151.400024  1141.746826   9777164\n",
              "\n",
              "[5 rows x 7 columns]"
            ]
          },
          "metadata": {
            "tags": []
          },
          "execution_count": 3
        }
      ]
    },
    {
      "cell_type": "code",
      "metadata": {
        "id": "ruKPM_whutRu",
        "colab": {
          "base_uri": "https://localhost:8080/",
          "height": 223
        },
        "outputId": "f39c4aa9-499f-491d-cbfc-05432470f612"
      },
      "source": [
        "infy=pd.read_csv('/content/INFY.NS.csv')\n",
        "print(infy.shape)\n",
        "infy.head()"
      ],
      "execution_count": 4,
      "outputs": [
        {
          "output_type": "stream",
          "text": [
            "(246, 7)\n"
          ],
          "name": "stdout"
        },
        {
          "output_type": "execute_result",
          "data": {
            "text/html": [
              "<div>\n",
              "<style scoped>\n",
              "    .dataframe tbody tr th:only-of-type {\n",
              "        vertical-align: middle;\n",
              "    }\n",
              "\n",
              "    .dataframe tbody tr th {\n",
              "        vertical-align: top;\n",
              "    }\n",
              "\n",
              "    .dataframe thead th {\n",
              "        text-align: right;\n",
              "    }\n",
              "</style>\n",
              "<table border=\"1\" class=\"dataframe\">\n",
              "  <thead>\n",
              "    <tr style=\"text-align: right;\">\n",
              "      <th></th>\n",
              "      <th>Date</th>\n",
              "      <th>Open</th>\n",
              "      <th>High</th>\n",
              "      <th>Low</th>\n",
              "      <th>Close</th>\n",
              "      <th>Adj Close</th>\n",
              "      <th>Volume</th>\n",
              "    </tr>\n",
              "  </thead>\n",
              "  <tbody>\n",
              "    <tr>\n",
              "      <th>0</th>\n",
              "      <td>2018-04-02</td>\n",
              "      <td>570.500000</td>\n",
              "      <td>574.775024</td>\n",
              "      <td>560.650024</td>\n",
              "      <td>568.575012</td>\n",
              "      <td>516.459229</td>\n",
              "      <td>8072702</td>\n",
              "    </tr>\n",
              "    <tr>\n",
              "      <th>1</th>\n",
              "      <td>2018-04-03</td>\n",
              "      <td>567.349976</td>\n",
              "      <td>571.775024</td>\n",
              "      <td>564.049988</td>\n",
              "      <td>570.224976</td>\n",
              "      <td>517.957886</td>\n",
              "      <td>4077168</td>\n",
              "    </tr>\n",
              "    <tr>\n",
              "      <th>2</th>\n",
              "      <td>2018-04-04</td>\n",
              "      <td>572.000000</td>\n",
              "      <td>572.275024</td>\n",
              "      <td>560.000000</td>\n",
              "      <td>562.099976</td>\n",
              "      <td>510.577576</td>\n",
              "      <td>4813302</td>\n",
              "    </tr>\n",
              "    <tr>\n",
              "      <th>3</th>\n",
              "      <td>2018-04-05</td>\n",
              "      <td>569.775024</td>\n",
              "      <td>575.650024</td>\n",
              "      <td>564.549988</td>\n",
              "      <td>573.775024</td>\n",
              "      <td>521.182556</td>\n",
              "      <td>7763544</td>\n",
              "    </tr>\n",
              "    <tr>\n",
              "      <th>4</th>\n",
              "      <td>2018-04-06</td>\n",
              "      <td>571.500000</td>\n",
              "      <td>573.000000</td>\n",
              "      <td>561.049988</td>\n",
              "      <td>563.500000</td>\n",
              "      <td>511.849365</td>\n",
              "      <td>5937742</td>\n",
              "    </tr>\n",
              "  </tbody>\n",
              "</table>\n",
              "</div>"
            ],
            "text/plain": [
              "         Date        Open        High  ...       Close   Adj Close   Volume\n",
              "0  2018-04-02  570.500000  574.775024  ...  568.575012  516.459229  8072702\n",
              "1  2018-04-03  567.349976  571.775024  ...  570.224976  517.957886  4077168\n",
              "2  2018-04-04  572.000000  572.275024  ...  562.099976  510.577576  4813302\n",
              "3  2018-04-05  569.775024  575.650024  ...  573.775024  521.182556  7763544\n",
              "4  2018-04-06  571.500000  573.000000  ...  563.500000  511.849365  5937742\n",
              "\n",
              "[5 rows x 7 columns]"
            ]
          },
          "metadata": {
            "tags": []
          },
          "execution_count": 4
        }
      ]
    },
    {
      "cell_type": "code",
      "metadata": {
        "id": "ODsPMxaiuuHc",
        "colab": {
          "base_uri": "https://localhost:8080/",
          "height": 223
        },
        "outputId": "957ba2f8-5c84-424a-cd5c-fec08e9bf94e"
      },
      "source": [
        "tata=pd.read_csv('/content/TATAMOTORS.NS.csv')\n",
        "print(tata.shape)\n",
        "tata.head()"
      ],
      "execution_count": 5,
      "outputs": [
        {
          "output_type": "stream",
          "text": [
            "(246, 7)\n"
          ],
          "name": "stdout"
        },
        {
          "output_type": "execute_result",
          "data": {
            "text/html": [
              "<div>\n",
              "<style scoped>\n",
              "    .dataframe tbody tr th:only-of-type {\n",
              "        vertical-align: middle;\n",
              "    }\n",
              "\n",
              "    .dataframe tbody tr th {\n",
              "        vertical-align: top;\n",
              "    }\n",
              "\n",
              "    .dataframe thead th {\n",
              "        text-align: right;\n",
              "    }\n",
              "</style>\n",
              "<table border=\"1\" class=\"dataframe\">\n",
              "  <thead>\n",
              "    <tr style=\"text-align: right;\">\n",
              "      <th></th>\n",
              "      <th>Date</th>\n",
              "      <th>Open</th>\n",
              "      <th>High</th>\n",
              "      <th>Low</th>\n",
              "      <th>Close</th>\n",
              "      <th>Adj Close</th>\n",
              "      <th>Volume</th>\n",
              "    </tr>\n",
              "  </thead>\n",
              "  <tbody>\n",
              "    <tr>\n",
              "      <th>0</th>\n",
              "      <td>2018-04-02</td>\n",
              "      <td>335.000000</td>\n",
              "      <td>340.799988</td>\n",
              "      <td>332.700012</td>\n",
              "      <td>339.149994</td>\n",
              "      <td>339.149994</td>\n",
              "      <td>9874486</td>\n",
              "    </tr>\n",
              "    <tr>\n",
              "      <th>1</th>\n",
              "      <td>2018-04-03</td>\n",
              "      <td>338.399994</td>\n",
              "      <td>344.500000</td>\n",
              "      <td>337.149994</td>\n",
              "      <td>343.100006</td>\n",
              "      <td>343.100006</td>\n",
              "      <td>6989584</td>\n",
              "    </tr>\n",
              "    <tr>\n",
              "      <th>2</th>\n",
              "      <td>2018-04-04</td>\n",
              "      <td>346.799988</td>\n",
              "      <td>363.700012</td>\n",
              "      <td>346.250000</td>\n",
              "      <td>355.600006</td>\n",
              "      <td>355.600006</td>\n",
              "      <td>27157199</td>\n",
              "    </tr>\n",
              "    <tr>\n",
              "      <th>3</th>\n",
              "      <td>2018-04-05</td>\n",
              "      <td>362.600006</td>\n",
              "      <td>372.350006</td>\n",
              "      <td>359.799988</td>\n",
              "      <td>362.200012</td>\n",
              "      <td>362.200012</td>\n",
              "      <td>28886070</td>\n",
              "    </tr>\n",
              "    <tr>\n",
              "      <th>4</th>\n",
              "      <td>2018-04-06</td>\n",
              "      <td>362.000000</td>\n",
              "      <td>368.350006</td>\n",
              "      <td>356.450012</td>\n",
              "      <td>364.100006</td>\n",
              "      <td>364.100006</td>\n",
              "      <td>13297051</td>\n",
              "    </tr>\n",
              "  </tbody>\n",
              "</table>\n",
              "</div>"
            ],
            "text/plain": [
              "         Date        Open        High  ...       Close   Adj Close    Volume\n",
              "0  2018-04-02  335.000000  340.799988  ...  339.149994  339.149994   9874486\n",
              "1  2018-04-03  338.399994  344.500000  ...  343.100006  343.100006   6989584\n",
              "2  2018-04-04  346.799988  363.700012  ...  355.600006  355.600006  27157199\n",
              "3  2018-04-05  362.600006  372.350006  ...  362.200012  362.200012  28886070\n",
              "4  2018-04-06  362.000000  368.350006  ...  364.100006  364.100006  13297051\n",
              "\n",
              "[5 rows x 7 columns]"
            ]
          },
          "metadata": {
            "tags": []
          },
          "execution_count": 5
        }
      ]
    },
    {
      "cell_type": "code",
      "metadata": {
        "id": "MEyuVeZtwETJ"
      },
      "source": [
        "!pip install yfinance\n",
        "!pip install ta\n"
      ],
      "execution_count": null,
      "outputs": []
    },
    {
      "cell_type": "code",
      "metadata": {
        "id": "cdkS89etwMt8"
      },
      "source": [
        "import yfinance as yf\n",
        "import ta\n",
        "import pandas as pd\n",
        "from datetime import date, timedelta, datetime\n",
        "from IPython.display import clear_output"
      ],
      "execution_count": 7,
      "outputs": []
    },
    {
      "cell_type": "code",
      "metadata": {
        "id": "f3_jYzO2H3Xa"
      },
      "source": [
        "!pip3 install numpy==1.20.0\n",
        "!pip3 install pandas==1.1.4\n",
        "\n",
        "!pip3 install pandas-datareader==0.9.0\n",
        "\n",
        "!pip3 install matplotlib==3.3.3\n",
        "\n"
      ],
      "execution_count": null,
      "outputs": []
    },
    {
      "cell_type": "code",
      "metadata": {
        "id": "QtuXcYbJI8u0"
      },
      "source": [
        "!pip3 install --upgrade pandas\n",
        "!pip3 install --upgrade pandas-datareader"
      ],
      "execution_count": null,
      "outputs": []
    },
    {
      "cell_type": "code",
      "metadata": {
        "colab": {
          "base_uri": "https://localhost:8080/",
          "height": 280
        },
        "id": "zrvyamclxwmF",
        "outputId": "1752ae18-3c61-40df-f924-7d1f0c41c84b"
      },
      "source": [
        "#https://www.learnpythonwithrune.org/pandas-calculate-and-plot-the-bollinger-bands-for-a-stock/\n",
        "import pandas_datareader as pdr\n",
        "import datetime as dt\n",
        "import matplotlib.pyplot as plt\n",
        "\n",
        "\n",
        "ticker = pdr.get_data_yahoo(\"HDFCBANK.NS\", dt.datetime(2018, 4, 1), dt.datetime(2019,3,31))[['Close', 'High', 'Low']]\n",
        "\n",
        "# Boillinger band calculations\n",
        "ticker['TP'] = (ticker['Close'] + ticker['Low'] + ticker['High'])/3\n",
        "ticker['std'] = ticker['TP'].rolling(20).std(ddof=0)\n",
        "ticker['MA-TP'] = ticker['TP'].rolling(20).mean()\n",
        "#Using Simple moving average filter->20\n",
        "ticker['BOLU'] = ticker['MA-TP'] + 2*ticker['std']\n",
        "#Upper Bollinger Band\n",
        "ticker['BOLD'] = ticker['MA-TP'] - 2*ticker['std']\n",
        "#Lower Bollinger Band\n",
        "ticker = ticker.dropna()\n",
        "\n",
        "ax = ticker[['Close', 'BOLU', 'BOLD']].plot(color=['blue', 'orange', 'yellow'])\n",
        "ax.fill_between(ticker.index, ticker['BOLD'], ticker['BOLU'], facecolor='orange', alpha=0.1)\n",
        "plt.show()"
      ],
      "execution_count": 4,
      "outputs": [
        {
          "output_type": "display_data",
          "data": {
            "image/png": "[encoded data removed]",
            "text/plain": [
              "<Figure size 432x288 with 1 Axes>"
            ]
          },
          "metadata": {
            "tags": [],
            "needs_background": "light"
          }
        }
      ]
    },
    {
      "cell_type": "code",
      "metadata": {
        "colab": {
          "base_uri": "https://localhost:8080/",
          "height": 541
        },
        "id": "mdIF2hVy2VoL",
        "outputId": "e0655a85-78b6-419f-cd61-85bd6128f8ad"
      },
      "source": [
        "#https://www.learnpythonwithrune.org/pandas-calculate-and-plot-the-bollinger-bands-for-a-stock/\n",
        "import pandas_datareader as pdr\n",
        "import datetime as dt\n",
        "import matplotlib.pyplot as plt\n",
        "\n",
        "\n",
        "ticker = pdr.get_data_yahoo(\"INFY.NS\", dt.datetime(2018, 4, 1), dt.datetime(2019,3,31))[['Close', 'High', 'Low']]\n",
        "\n",
        "# Boillinger band calculations\n",
        "ticker['TP'] = (ticker['Close'] + ticker['Low'] + ticker['High'])/3\n",
        "ticker['std'] = ticker['TP'].rolling(20).std(ddof=0)\n",
        "ticker['MA-TP'] = ticker['TP'].rolling(20).mean()\n",
        "#Using Simple moving average filter->20\n",
        "ticker['BOLU'] = ticker['MA-TP'] + 2*ticker['std']\n",
        "#Upper Bollinger Band\n",
        "ticker['BOLD'] = ticker['MA-TP'] - 2*ticker['std']\n",
        "#Lower Bollinger Band\n",
        "ticker = ticker.dropna()\n",
        "print(ticker)\n",
        "\n",
        "ax = ticker[['Close', 'BOLU', 'BOLD']].plot(color=['blue', 'orange', 'yellow'])\n",
        "ax.fill_between(ticker.index, ticker['BOLD'], ticker['BOLU'], facecolor='orange', alpha=0.1)\n",
        "plt.show()"
      ],
      "execution_count": 5,
      "outputs": [
        {
          "output_type": "stream",
          "text": [
            "                 Close        High  ...        BOLU        BOLD\n",
            "Date                                ...                        \n",
            "2018-04-27  592.599976  595.799988  ...  594.966590  549.786739\n",
            "2018-04-30  599.750000  603.974976  ...  598.956285  548.798707\n",
            "2018-05-02  598.525024  600.799988  ...  602.089599  548.457894\n",
            "2018-05-03  591.275024  602.349976  ...  604.260045  549.197448\n",
            "2018-05-04  586.549988  593.000000  ...  605.125312  549.768013\n",
            "...                ...         ...  ...         ...         ...\n",
            "2019-03-25  735.250000  742.400024  ...  753.289684  702.341985\n",
            "2019-03-26  727.750000  735.250000  ...  752.827964  702.168704\n",
            "2019-03-27  729.700012  732.299988  ...  749.790874  703.229127\n",
            "2019-03-28  737.799988  745.000000  ...  748.430293  703.841374\n",
            "2019-04-01  755.099976  760.000000  ...  751.420661  702.274338\n",
            "\n",
            "[228 rows x 8 columns]\n"
          ],
          "name": "stdout"
        },
        {
          "output_type": "display_data",
          "data": {
            "image/png": "[encoded data removed]",
            "text/plain": [
              "<Figure size 432x288 with 1 Axes>"
            ]
          },
          "metadata": {
            "tags": [],
            "needs_background": "light"
          }
        }
      ]
    },
    {
      "cell_type": "code",
      "metadata": {
        "colab": {
          "base_uri": "https://localhost:8080/",
          "height": 541
        },
        "id": "-trTgXbg2b_i",
        "outputId": "30d9dec5-7b6a-499a-aa84-8026e1f093ed"
      },
      "source": [
        "#https://www.learnpythonwithrune.org/pandas-calculate-and-plot-the-bollinger-bands-for-a-stock/\n",
        "import pandas_datareader as pdr\n",
        "import datetime as dt\n",
        "import matplotlib.pyplot as plt\n",
        "\n",
        "\n",
        "ticker = pdr.get_data_yahoo(\"TATAMOTORS.NS\", dt.datetime(2018, 4, 1), dt.datetime(2019,3,31))[['Close', 'High', 'Low']]\n",
        "\n",
        "# Boillinger band calculations\n",
        "ticker['TP'] = (ticker['Close'] + ticker['Low'] + ticker['High'])/3\n",
        "ticker['std'] = ticker['TP'].rolling(20).std(ddof=0)\n",
        "ticker['MA-TP'] = ticker['TP'].rolling(20).mean()\n",
        "#Using Simple moving average filter->20\n",
        "ticker['BOLU'] = ticker['MA-TP'] + 2*ticker['std']\n",
        "#Upper Bollinger Band\n",
        "ticker['BOLD'] = ticker['MA-TP'] - 2*ticker['std']\n",
        "#Lower Bollinger Band\n",
        "ticker = ticker.dropna()\n",
        "print(ticker)\n",
        "\n",
        "ax = ticker[['Close', 'BOLU', 'BOLD']].plot(color=['blue', 'orange', 'yellow'])\n",
        "ax.fill_between(ticker.index, ticker['BOLD'], ticker['BOLU'], facecolor='orange', alpha=0.1)\n",
        "plt.show()"
      ],
      "execution_count": 6,
      "outputs": [
        {
          "output_type": "stream",
          "text": [
            "                 Close        High  ...        BOLU        BOLD\n",
            "Date                                ...                        \n",
            "2018-04-27  336.899994  337.649994  ...  368.876333  321.558665\n",
            "2018-04-30  340.399994  342.750000  ...  368.864432  321.828900\n",
            "2018-05-02  336.049988  351.649994  ...  368.854009  321.770989\n",
            "2018-05-03  333.500000  335.899994  ...  367.876858  320.514805\n",
            "2018-05-04  334.399994  337.299988  ...  364.740248  320.546415\n",
            "...                ...         ...  ...         ...         ...\n",
            "2019-03-25  171.300003  173.800003  ...  191.485936  171.124065\n",
            "2019-03-26  173.100006  173.600006  ...  191.451635  171.186700\n",
            "2019-03-27  169.850006  175.000000  ...  191.870017  170.343318\n",
            "2019-03-28  170.550003  171.399994  ...  192.446697  168.796638\n",
            "2019-04-01  187.350006  189.750000  ...  192.789835  168.916833\n",
            "\n",
            "[228 rows x 8 columns]\n"
          ],
          "name": "stdout"
        },
        {
          "output_type": "display_data",
          "data": {
            "image/png": "[encoded data removed]",
            "text/plain": [
              "<Figure size 432x288 with 1 Axes>"
            ]
          },
          "metadata": {
            "tags": [],
            "needs_background": "light"
          }
        }
      ]
    }
  ]
}